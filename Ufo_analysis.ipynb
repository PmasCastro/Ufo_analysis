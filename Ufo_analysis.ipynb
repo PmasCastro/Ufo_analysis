{
  "nbformat": 4,
  "nbformat_minor": 0,
  "metadata": {
    "colab": {
      "provenance": [],
      "authorship_tag": "ABX9TyM9LzorMXsbs/jPwZkkGY4Y",
      "include_colab_link": true
    },
    "kernelspec": {
      "name": "python3",
      "display_name": "Python 3"
    },
    "language_info": {
      "name": "python"
    }
  },
  "cells": [
    {
      "cell_type": "markdown",
      "metadata": {
        "id": "view-in-github",
        "colab_type": "text"
      },
      "source": [
        "<a href=\"https://colab.research.google.com/github/PmasCastro/Ufo_analysis/blob/main/Ufo_analysis.ipynb\" target=\"_parent\"><img src=\"https://colab.research.google.com/assets/colab-badge.svg\" alt=\"Open In Colab\"/></a>"
      ]
    },
    {
      "cell_type": "markdown",
      "source": [],
      "metadata": {
        "id": "EDozpT6fAVxK"
      }
    },
    {
      "cell_type": "markdown",
      "source": [
        "# First Section\n",
        "\n",
        "\n"
      ],
      "metadata": {
        "id": "aEFRUHGXAbg0"
      }
    },
    {
      "cell_type": "code",
      "execution_count": null,
      "metadata": {
        "id": "8Qag3mU12pfY"
      },
      "outputs": [],
      "source": [
        "!pip install folium openpyxl\n",
        "!jupyter labextension install @jupyter-widgets/jupyterlab-manager\n",
        "!pip install ipywidgets\n",
        "!jupyter nbextension enable --py widgetsnbextension\n",
        "!pip install nbstripout\n",
        "!nbstripout --install\n",
        "!nbstripout --attributes 'metadata.widgets'"
      ]
    },
    {
      "cell_type": "code",
      "source": [
        "import pandas as pd\n",
        "import folium\n",
        "from folium.plugins import MarkerCluster\n",
        "import ipywidgets as widgets\n",
        "from IPython.display import display\n",
        "import os\n",
        "\n",
        "# --- Step 1: Load the data ---\n",
        "file_name = \"ufo_sightings_scrubbed.xlsx\"\n",
        "\n",
        "if not os.path.exists(file_name):\n",
        "    print(f\"❌ Error: File '{file_name}' not found in {os.getcwd()}\")\n",
        "    df = None\n",
        "else:\n",
        "    df = pd.read_excel(file_name)\n",
        "    df.columns = df.columns.str.strip().str.lower()\n",
        "    df['latitude'] = pd.to_numeric(df['latitude'], errors='coerce')\n",
        "    df['longitude'] = pd.to_numeric(df['longitude'], errors='coerce')\n",
        "    df = df.dropna(subset=['latitude', 'longitude'])\n",
        "    print(f\"✅ Data loaded and cleaned. Total records: {len(df)}\")\n",
        "\n",
        "# --- Step 2: Setup filters & UI ---\n",
        "if df is not None and not df.empty:\n",
        "    country_options = ['All'] + sorted(df['country'].dropna().unique().tolist()) if 'country' in df.columns else ['All']\n",
        "    shape_options = ['All'] + sorted(df['shape'].dropna().unique().tolist()) if 'shape' in df.columns else ['All']\n",
        "\n",
        "    country_dropdown = widgets.Dropdown(options=country_options, description='Country:')\n",
        "    shape_dropdown = widgets.Dropdown(options=shape_options, description='Shape:')\n",
        "    ui = widgets.VBox([country_dropdown, shape_dropdown])\n",
        "\n",
        "    # --- Step 3: Map function ---\n",
        "    def show_map(country='All', shape='All'):\n",
        "        filtered_df = df\n",
        "\n",
        "        if country != 'All':\n",
        "            filtered_df = filtered_df[filtered_df['country'] == country]\n",
        "        if shape != 'All':\n",
        "            filtered_df = filtered_df[filtered_df['shape'] == shape]\n",
        "\n",
        "        if filtered_df.empty:\n",
        "            print(\"No data matches the selected filters.\")\n",
        "            return\n",
        "\n",
        "        # Limit the number of points for performance\n",
        "        filtered_df = filtered_df.head(1000)\n",
        "\n",
        "        # Create folium map centered roughly over US (adjust if needed)\n",
        "        m = folium.Map(location=[39.8283, -98.5795], zoom_start=4)\n",
        "        cluster = MarkerCluster().add_to(m)\n",
        "\n",
        "        for _, row in filtered_df.iterrows():\n",
        "            popup = (\n",
        "                f\"{row.get('datetime', 'N/A')}<br>\"\n",
        "                f\"{row.get('city', 'N/A')}, {row.get('state', 'N/A')}<br>\"\n",
        "                f\"Shape: {row.get('shape', 'N/A')}<br>\"\n",
        "                f\"{row.get('comments', 'N/A')}\"\n",
        "            )\n",
        "            folium.Marker(\n",
        "                location=[row['latitude'], row['longitude']],\n",
        "                popup=popup,\n",
        "                icon=folium.Icon(color=\"purple\", icon=\"info-sign\")\n",
        "            ).add_to(cluster)\n",
        "\n",
        "        display(m)\n",
        "\n",
        "    # --- Step 4: Display UI with interactive output ---\n",
        "    interactive_out = widgets.interactive_output(show_map, {'country': country_dropdown, 'shape': shape_dropdown})\n",
        "    display(ui, interactive_out)\n",
        "\n",
        "else:\n",
        "    print(\"❌ Map not created. Please check your data file and try again.\")"
      ],
      "metadata": {
        "id": "dEfIVdDAKHj7"
      },
      "execution_count": null,
      "outputs": []
    },
    {
      "cell_type": "code",
      "source": [],
      "metadata": {
        "id": "XRqYnR9HOIVr"
      },
      "execution_count": null,
      "outputs": []
    }
  ]
}